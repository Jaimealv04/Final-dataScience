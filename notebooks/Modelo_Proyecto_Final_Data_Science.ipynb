{
 "cells": [
  {
   "cell_type": "markdown",
   "id": "8f6d48ac",
   "metadata": {},
   "source": [
    "# Predicción Automática Días de Pago de Factura"
   ]
  },
  {
   "cell_type": "markdown",
   "id": "4840ce9b",
   "metadata": {},
   "source": [
    "<a id=\"1\"></a>\n",
    "## 1. Preparación del entorno\n",
    "\n",
    "Preparamos las heramientas y librerías para ajustar los modelos"
   ]
  },
  {
   "cell_type": "markdown",
   "id": "1bd24034",
   "metadata": {},
   "source": [
    "### Cargar Librerías\n",
    "\n",
    "Librerías pyhton para manejo de los datasets proporcionados."
   ]
  },
  {
   "cell_type": "code",
   "execution_count": null,
   "id": "ea669dee",
   "metadata": {},
   "outputs": [],
   "source": [
    "import pandas as pd\n",
    "import numpy as np\n",
    "import seaborn as sns\n",
    "from seaborn import lmplot\n",
    "from matplotlib import pyplot as plt\n",
    "import xgboost as xgb\n",
    "from xgboost import cv\n",
    "from sklearn.model_selection import train_test_split, GridSearchCV, KFold, cross_val_score, LeaveOneOut\n",
    "from sklearn.preprocessing import LabelEncoder, OrdinalEncoder\n",
    "import sklearn.preprocessing as preprocessing\n",
    "from sklearn.metrics import accuracy_score, r2_score, mean_squared_error, confusion_matrix, classification_report\n",
    "import datetime as dt\n",
    "from datetime import date, datetime\n",
    "#import eli5\n",
    "#from eli5.sklearn import PermutationImportance\n",
    "from statistics import mean\n",
    "from sklearn import datasets, metrics\n",
    "from sklearn.utils import class_weight"
   ]
  },
  {
   "cell_type": "markdown",
   "id": "708e7a43",
   "metadata": {},
   "source": [
    "<a id=\"2\"></a>\n",
    "## 2. Cargar y explorar los datos"
   ]
  },
  {
   "cell_type": "code",
   "execution_count": null,
   "id": "3734a0d3",
   "metadata": {},
   "outputs": [],
   "source": [
    "datos_facturas = pd.read_csv('datasets/facturas_3.csv',sep=',',low_memory=False, index_col=0)\n",
    "datos_facturas = datos_facturas.drop(['id_c_documento', 'numero_documento','importe_nota_credito', 'importe_descuento',\n",
    "                                      'id_c_tipo_documento', 'importe_pago', 'id_c_tipo_cliente', 'conciliada', \n",
    "                                      'fecha_envia_valija', 'fecha_inserta_fisica', 'id_user_crea', 'clave_sap',\n",
    "                                      'contrato_documento', 'observacion_documento'], axis=1)\n",
    "shape = datos_facturas.shape\n",
    "print(shape)\n",
    "datos_facturas"
   ]
  },
  {
   "cell_type": "markdown",
   "id": "f02c2bd0",
   "metadata": {},
   "source": [
    "### Preparación del Dataset para el modelo XGBoost"
   ]
  },
  {
   "cell_type": "code",
   "execution_count": null,
   "id": "2621205c",
   "metadata": {},
   "outputs": [],
   "source": [
    "datos_facturas.columns.values"
   ]
  },
  {
   "cell_type": "markdown",
   "id": "4069345a",
   "metadata": {},
   "source": [
    "Variables incluidas en nuestro modelo:\n",
    "1. rfc_cliente  \n",
    "2. rfc_deudor  \n",
    "3. id_division_deudor  \n",
    "4. tipo_cliente  \n",
    "5. id_division_documento\n",
    "6. giro_cliente\n",
    "7. fecha_reprogramacion \n",
    "8. fecha_deposito  \n",
    "9. fecha_pago  \n",
    "10. num_zona  \n",
    "11. pedido  \n",
    "12. id_c_moneda  \n",
    "13. id_c_deudor  \n",
    "14. id_c_cliente  \n",
    "15. fecha_documento  \n",
    "16. importe_documento  \n",
    "17. saldo_documento  \n",
    "18. id_c_ruta  \n",
    "19. fecha_recibida_aeesa  \n",
    "20. contra_recibo  \n",
    "21. id_c_anomalia  \n",
    "22. fecha_inserta  \n",
    "23. status  \n",
    "24. id_c_tipo_localidad  \n",
    "25. dias_credito\n",
    "26. fecha_revision\n",
    "27. fecha_anomalia\n",
    "28. num_visitas"
   ]
  },
  {
   "cell_type": "code",
   "execution_count": null,
   "id": "60a7db32",
   "metadata": {},
   "outputs": [],
   "source": [
    "dates = datos_facturas[['fecha_documento', 'fecha_recibida_aeesa', 'fecha_pago', 'fecha_reprogramacion', 'fecha_revision',\n",
    "                       'fecha_inserta']]"
   ]
  },
  {
   "cell_type": "code",
   "execution_count": null,
   "id": "05a6feb6",
   "metadata": {},
   "outputs": [],
   "source": [
    "for i in dates:\n",
    "    datos_facturas[i] = pd.to_datetime(datos_facturas[i], format = '%Y-%m-%d')"
   ]
  },
  {
   "cell_type": "code",
   "execution_count": null,
   "id": "0a2a6d2f",
   "metadata": {},
   "outputs": [],
   "source": [
    "datos_facturas.dtypes"
   ]
  },
  {
   "cell_type": "markdown",
   "id": "1c9aa713",
   "metadata": {},
   "source": [
    "<a id=\"3\"></a>\n",
    "## 3. Ajuste fino del modelo"
   ]
  },
  {
   "cell_type": "code",
   "execution_count": null,
   "id": "a4c261a6",
   "metadata": {},
   "outputs": [],
   "source": [
    "categoricals = datos_facturas[['rfc_cliente', 'rfc_deudor', 'id_division_deudor', 'tipo_cliente', 'giro_cliente',\n",
    "                               'id_division_documento', 'num_zona', 'pedido', 'id_c_deudor', 'id_c_cliente', 'contra_recibo',\n",
    "                               'id_c_anomalia', 'status', 'id_c_moneda', 'id_c_tipo_localidad', 'id_c_ruta']]\n",
    "numericals = datos_facturas[['importe_documento', 'saldo_documento', 'dias_credito', 'num_visitas']]\n",
    "dates = datos_facturas[['fecha_documento', 'fecha_recibida_aeesa', 'fecha_pago', 'fecha_reprogramacion', 'fecha_revision',\n",
    "                       'fecha_inserta', 'fecha_deposito', 'fecha_anomalia']]"
   ]
  },
  {
   "cell_type": "code",
   "execution_count": null,
   "id": "6e280e86",
   "metadata": {},
   "outputs": [],
   "source": [
    "datos_facturas.dtypes"
   ]
  },
  {
   "cell_type": "code",
   "execution_count": null,
   "id": "d673a843",
   "metadata": {},
   "outputs": [],
   "source": [
    "cat = categoricals.columns.values\n",
    "encoder = OrdinalEncoder()\n",
    "def cat_num (categoricals):\n",
    "    for i in cat:\n",
    "        encoder.fit(categoricals[[i]])\n",
    "        categoricals[i] = encoder.transform(categoricals[[i]])\n",
    "    return categoricals"
   ]
  },
  {
   "cell_type": "code",
   "execution_count": null,
   "id": "1bf6f46e",
   "metadata": {},
   "outputs": [],
   "source": [
    "categoricals = cat_num(categoricals)"
   ]
  },
  {
   "cell_type": "code",
   "execution_count": null,
   "id": "537870df",
   "metadata": {},
   "outputs": [],
   "source": [
    "for i in dates:\n",
    "    dates[i] = pd.to_datetime(dates[i], format = '%Y-%m-%d')"
   ]
  },
  {
   "cell_type": "code",
   "execution_count": null,
   "id": "6c711f69",
   "metadata": {},
   "outputs": [],
   "source": [
    "datos_facturas_xgb = pd.merge(pd.merge(categoricals,numericals, left_index=True, right_index=True),\n",
    "                              dates, left_index=True, right_index=True)\n",
    "datos_facturas_xgb.dtypes"
   ]
  },
  {
   "cell_type": "code",
   "execution_count": null,
   "id": "0940d46b",
   "metadata": {},
   "outputs": [],
   "source": [
    "datos_facturas_xgb.shape"
   ]
  },
  {
   "cell_type": "markdown",
   "id": "21dc63ba",
   "metadata": {},
   "source": [
    "A continuación pasaremos todos los importes y saldos de las facturas a pesos mexicanos (0), esto es necesario puesto que hay facturas en dólares estadounidenses (1)."
   ]
  },
  {
   "cell_type": "code",
   "execution_count": null,
   "id": "1ac92501",
   "metadata": {},
   "outputs": [],
   "source": [
    "tipodecambio = pd.read_excel('datasets/Tipodecambio.xlsx', index_col=0)\n",
    "tipodecambio.head()"
   ]
  },
  {
   "cell_type": "code",
   "execution_count": null,
   "id": "571e82c7",
   "metadata": {},
   "outputs": [],
   "source": [
    "df1 = datos_facturas_xgb[datos_facturas_xgb['id_c_moneda']==1]\n",
    "df1.shape"
   ]
  },
  {
   "cell_type": "code",
   "execution_count": null,
   "id": "505e7bad",
   "metadata": {},
   "outputs": [],
   "source": [
    "datos_facturas_xgb.drop(datos_facturas_xgb[datos_facturas_xgb['id_c_moneda']==1].index, inplace=True)"
   ]
  },
  {
   "cell_type": "code",
   "execution_count": null,
   "id": "fb66b1ae",
   "metadata": {},
   "outputs": [],
   "source": [
    "print(tipodecambio['fecha_cambio'].max())"
   ]
  },
  {
   "cell_type": "code",
   "execution_count": null,
   "id": "332c4fb2",
   "metadata": {},
   "outputs": [],
   "source": [
    "df2 = df1[df1['fecha_documento']>'2023-01-09']\n",
    "df2.shape"
   ]
  },
  {
   "cell_type": "markdown",
   "id": "269b4ab8",
   "metadata": {},
   "source": [
    "Como acabamos de poder ver, se pierden 16 facturas debido a que su fecha de emisión es posterior a la última fecha registrada por los registros del tipo de cambio que tenemos."
   ]
  },
  {
   "cell_type": "code",
   "execution_count": null,
   "id": "8b229b2b",
   "metadata": {},
   "outputs": [],
   "source": [
    "tipodecambio.rename(columns={'fecha_cambio': 'fecha_documento'}, inplace=True)\n",
    "df1 = pd.merge(df1, tipodecambio, on = 'fecha_documento')\n",
    "df1.shape"
   ]
  },
  {
   "cell_type": "code",
   "execution_count": null,
   "id": "731c345e",
   "metadata": {},
   "outputs": [],
   "source": [
    "def cambio_usd_pesos(df):\n",
    "    for i in range(0, len(df)):\n",
    "        if df.loc[i, 'id_c_moneda']==1:\n",
    "                df.loc[i, 'importe_documento'] = df.loc[i, 'importe_documento']*df.loc[i, 'tipo_cambio']\n",
    "                df.loc[i, 'saldo_documento'] = df.loc[i, 'saldo_documento']*df.loc[i, 'tipo_cambio']\n",
    "    return df"
   ]
  },
  {
   "cell_type": "code",
   "execution_count": null,
   "id": "6b2be352",
   "metadata": {},
   "outputs": [],
   "source": [
    "cambio_usd_pesos(df1)\n",
    "datos_facturas_xgb = pd.concat([datos_facturas_xgb, df1])"
   ]
  },
  {
   "cell_type": "markdown",
   "id": "806856dd",
   "metadata": {},
   "source": [
    "Hemos perdido 16 registros de facturas (que antes de aplicar este cambio para incluir las facturas que estuviesen en base dólares estadounidense no estaban de por si incluidas en el modelo) y hemos ganado 1063 facturas para nuestro modelo, por lo que consideraremos esta la mejor estrategia."
   ]
  },
  {
   "cell_type": "code",
   "execution_count": null,
   "id": "3b18689a",
   "metadata": {},
   "outputs": [],
   "source": [
    "datos_facturas_xgb = datos_facturas_xgb.drop(['tipo_cambio'], axis=1)\n",
    "datos_facturas_xgb.head()"
   ]
  },
  {
   "cell_type": "code",
   "execution_count": null,
   "id": "a7b615d2",
   "metadata": {},
   "outputs": [],
   "source": [
    "datos_facturas_xgb.shape"
   ]
  },
  {
   "cell_type": "markdown",
   "id": "786f3f24",
   "metadata": {},
   "source": [
    "**Problemas con esta parte:**\n",
    "- El registro del tipo de cambio USD-pesos limita las facturas a entrenar de nuestro modelo, habría que tener una variable que se vaya actualizando con el tipo de cambio medio diario para que cada vez que se realice el entrenamiento del modelo no se pierdan registros de facturas."
   ]
  },
  {
   "cell_type": "markdown",
   "id": "10e69e42",
   "metadata": {},
   "source": [
    "[Volver al inicio del sección](#3)"
   ]
  },
  {
   "cell_type": "markdown",
   "id": "4bfa3c65",
   "metadata": {},
   "source": [
    "[Volver al Índice](#contenido)"
   ]
  },
  {
   "cell_type": "markdown",
   "id": "f05ddac0",
   "metadata": {},
   "source": [
    "<a id=\"4\"></a>\n",
    "## 4. Estrategia"
   ]
  },
  {
   "cell_type": "markdown",
   "id": "e6f38598",
   "metadata": {},
   "source": [
    "## ¿Cuánto se tarda en pagar?\n",
    "Este modelo tratará de responder a esta pregunta. Nuestra estrategia será la siguiente:\n",
    "1. Eliminamos las facturas que estén vacías en las columnas de las variables fecha_documento y fecha_pago, sin estos datos jamás podremos predecir lo que se tarda en pagar puesto que es el resultado de la resta de estos dos valores.\n",
    "2. Crearemos nuestra variable objetivo que nombraremos como target, esta es el resultado de la operación fecha_pago menos fecha_documento.\n",
    "3. Por último, para introducir la información que nos otorgan las fechas en nuestro modelo XGBoost, tendremos que partir de una fecha de referencia, en este caso será fecha_documento. Dicha fecha se la restaremos al resto de fechas y nos quedarán unas nuevas variables (nombradas de la misma manera) pero en formato de días. Para finalizar, eliminaremos la columna fecha_documento, dado que ya no nos aporta ninguna información."
   ]
  },
  {
   "cell_type": "code",
   "execution_count": null,
   "id": "85175ab2",
   "metadata": {},
   "outputs": [],
   "source": [
    "datos_facturas_xgb = datos_facturas_xgb[datos_facturas_xgb['fecha_documento'].notna()]\n",
    "datos_facturas_xgb = datos_facturas_xgb[datos_facturas_xgb['fecha_pago'].notna()]\n",
    "datos_facturas_xgb.shape"
   ]
  },
  {
   "cell_type": "markdown",
   "id": "eabc1704",
   "metadata": {},
   "source": [
    "Podemos ver como al aplicar la primera condición de nuestra estrategia nuestra muestra de facturas ha quedado reducida a 46410 facturas."
   ]
  },
  {
   "cell_type": "code",
   "execution_count": null,
   "id": "d586b575",
   "metadata": {},
   "outputs": [],
   "source": [
    "datos_facturas_xgb['target'] = datos_facturas_xgb['fecha_pago'] - datos_facturas_xgb['fecha_documento']\n",
    "datos_facturas_xgb['target'] = datos_facturas_xgb['target'].dt.days"
   ]
  },
  {
   "cell_type": "code",
   "execution_count": null,
   "id": "5572ccc3",
   "metadata": {},
   "outputs": [],
   "source": [
    "dates = dates.drop(['fecha_documento'], axis=1)\n",
    "for i in dates:\n",
    "    datos_facturas_xgb[i] = datos_facturas_xgb[i] - datos_facturas_xgb['fecha_documento']"
   ]
  },
  {
   "cell_type": "code",
   "execution_count": null,
   "id": "78abadfa",
   "metadata": {},
   "outputs": [],
   "source": [
    "for i in dates:\n",
    "    datos_facturas_xgb[i] = datos_facturas_xgb[i].dt.days"
   ]
  },
  {
   "cell_type": "code",
   "execution_count": null,
   "id": "5187ffee",
   "metadata": {},
   "outputs": [],
   "source": [
    "for i in dates:\n",
    "    datos_facturas_xgb.drop(datos_facturas_xgb[(datos_facturas_xgb[i] < 0)].index, inplace=True)\n",
    "    print('El número de facturas sin error en la variable', i, 'o en anteriores columnas es:', len(datos_facturas_xgb))"
   ]
  },
  {
   "cell_type": "code",
   "execution_count": null,
   "id": "9291c7bd",
   "metadata": {},
   "outputs": [],
   "source": [
    "datos_facturas_xgb.shape"
   ]
  },
  {
   "cell_type": "markdown",
   "id": "85665b6b",
   "metadata": {},
   "source": [
    "Confirmamos, como en el anterior modelo, que alrededor de 30000 facturas tienen su fecha de pago anterior a la fecha de emisión del documento y por lo tanto nos queda una muestra final para introducir al modelo de 14829 facturas."
   ]
  },
  {
   "cell_type": "markdown",
   "id": "2b72ef81",
   "metadata": {},
   "source": [
    "A continuación veremos un gráfico que representa un histograma de lo que se tarda en pagar las facturas, que es lo que pretendemos predecir con este modelo."
   ]
  },
  {
   "cell_type": "code",
   "execution_count": null,
   "id": "5e83b15f",
   "metadata": {},
   "outputs": [],
   "source": [
    "sns.histplot(data=datos_facturas_xgb, x='target')"
   ]
  },
  {
   "cell_type": "code",
   "execution_count": null,
   "id": "06b54ddd",
   "metadata": {},
   "outputs": [],
   "source": [
    "datos_facturas_xgb = datos_facturas_xgb.drop(['fecha_documento'], axis=1)"
   ]
  },
  {
   "cell_type": "code",
   "execution_count": null,
   "id": "adc633f2",
   "metadata": {},
   "outputs": [],
   "source": [
    "datos_facturas_xgb.dtypes"
   ]
  },
  {
   "cell_type": "code",
   "execution_count": null,
   "id": "9a9cb31e",
   "metadata": {},
   "outputs": [],
   "source": [
    "datos_facturas_xgb.head()"
   ]
  },
  {
   "cell_type": "code",
   "execution_count": null,
   "id": "02331d6a",
   "metadata": {},
   "outputs": [],
   "source": [
    "datos_facturas_xgb.shape"
   ]
  },
  {
   "cell_type": "markdown",
   "id": "8cf5aeaf",
   "metadata": {},
   "source": [
    "El modelo contiene una muestra suficientemente grande, por lo que una vez terminada esta parte de prepararación del Dataset para el modelo vamos a empezar con su entrenamiento."
   ]
  },
  {
   "cell_type": "markdown",
   "id": "271774d8",
   "metadata": {},
   "source": [
    "**Problemas con esta parte:**\n",
    "- Muchas facturas con posibles errores en las fechas, entrenaremos al modelo con 14829 facturas, que respecto a las 46274 facturas que podrían ser si las fechas estuviesen correctas completamente."
   ]
  },
  {
   "cell_type": "markdown",
   "id": "5ad0ee2f",
   "metadata": {},
   "source": [
    "[Volver al inicio del sección](#4)"
   ]
  },
  {
   "cell_type": "markdown",
   "id": "d98aecbb",
   "metadata": {},
   "source": [
    "[Volver al Índice](#contenido)"
   ]
  },
  {
   "cell_type": "markdown",
   "id": "3a078ba4",
   "metadata": {},
   "source": [
    "## 5. Entrenamiento del modelo<a id=\"5\"></a>"
   ]
  },
  {
   "cell_type": "markdown",
   "id": "12a017fc",
   "metadata": {},
   "source": [
    "En esta sección crearemos un regresor XGBoost con los parámetros por defecto."
   ]
  },
  {
   "cell_type": "code",
   "execution_count": null,
   "id": "5101ef2c",
   "metadata": {},
   "outputs": [],
   "source": [
    "datos_facturas_xgb_1 = datos_facturas_xgb"
   ]
  },
  {
   "cell_type": "code",
   "execution_count": null,
   "id": "52f2d29e",
   "metadata": {},
   "outputs": [],
   "source": [
    "datos_facturas_xgb = datos_facturas_xgb.drop(['fecha_pago'], axis=1)"
   ]
  },
  {
   "cell_type": "code",
   "execution_count": null,
   "id": "7f51e756",
   "metadata": {},
   "outputs": [],
   "source": [
    "X = datos_facturas_xgb.loc[:, datos_facturas_xgb.columns!='target']\n",
    "y = datos_facturas_xgb.loc[:, 'target']\n",
    "X.shape, y.shape, datos_facturas_xgb.shape"
   ]
  },
  {
   "cell_type": "markdown",
   "id": "44e63cc5",
   "metadata": {},
   "source": [
    "### train_test_split:\n",
    "Separamos el conjunto de datos de la siguiente forma:\n",
    "- 85% para entrenar\n",
    "- 15% para test"
   ]
  },
  {
   "cell_type": "code",
   "execution_count": null,
   "id": "2793c80c",
   "metadata": {},
   "outputs": [],
   "source": [
    "X_train, X_test, y_train, y_test = train_test_split(X, y, test_size=.15, random_state=2000)"
   ]
  },
  {
   "cell_type": "code",
   "execution_count": null,
   "id": "cb4e497e",
   "metadata": {},
   "outputs": [],
   "source": [
    "X_train.shape, X_test.shape"
   ]
  },
  {
   "cell_type": "code",
   "execution_count": null,
   "id": "9a8669ea",
   "metadata": {},
   "outputs": [],
   "source": [
    "xgbr = xgb.XGBRegressor(verbosity=0, seed=123)\n",
    "classes_weights = class_weight.compute_sample_weight(class_weight='balanced', y=y_train)"
   ]
  },
  {
   "cell_type": "code",
   "execution_count": null,
   "id": "5a9a801d",
   "metadata": {},
   "outputs": [],
   "source": [
    "xgbr.fit(X_train, y_train, sample_weight=classes_weights)\n",
    "preds1 = xgbr.predict(X_test)"
   ]
  },
  {
   "cell_type": "markdown",
   "id": "2d5fdaca",
   "metadata": {},
   "source": [
    "A continuación veremos la importancia que le ha dado nuestro modelo XGBoost a cada variable, esto lo haremos mediante el siguiente proceso:\n",
    "- **Feature Scores & Importance:** mide la ponderación y por lo tanto la importancia que el modelo le da a cada variable."
   ]
  },
  {
   "cell_type": "code",
   "execution_count": null,
   "id": "65ef8440",
   "metadata": {},
   "outputs": [],
   "source": [
    "feature_scores = pd.Series(xgbr.feature_importances_, index=X_train.columns).sort_values(ascending=False)\n",
    "feature_scores"
   ]
  },
  {
   "cell_type": "code",
   "execution_count": null,
   "id": "694ffa67",
   "metadata": {},
   "outputs": [],
   "source": [
    "feature_imp = pd.Series(xgbr.feature_importances_, index=X_train.columns.values).sort_values(ascending=False)\n",
    "\n",
    "sns.barplot(x=feature_imp, y=feature_imp.index)\n",
    "plt.xlabel('Feature Importance Score', fontsize=12)\n",
    "plt.ylabel('Features', fontsize=12)\n",
    "plt.title(\"Visualizing Feature Importances\", fontsize=15)"
   ]
  },
  {
   "cell_type": "code",
   "execution_count": null,
   "id": "f5bce19d",
   "metadata": {},
   "outputs": [],
   "source": [
    "print(metrics.r2_score(y_test, preds1))"
   ]
  },
  {
   "cell_type": "markdown",
   "id": "eb919e1d",
   "metadata": {},
   "source": [
    "El $R^2$ o coeficiente de determinación es la métrica que hemos utilizado para medir el funcionamiento del modelo, este resultado que hemos obtenido nos quiere decir que el 99% de la varianza está explicada dentro del modelo.  \n",
    "La varianza es la medida de dispersión que se utiliza para representar la variabilidad de un conjunto de datos respecto de la media aritmética de los mismos."
   ]
  },
  {
   "cell_type": "markdown",
   "id": "36539338",
   "metadata": {},
   "source": [
    "Para hablar más claro hemos calculado el RMSE (raíz del error cuadrático medio), de esta manera tenemos idea de la distancia media entre los datos observados y los datos que se han predicho. Nuestro resultado es 2.55, esto significa que la media de la diferencia entre lo que se tarda en pagar y los días que se han predicho que se iba a pagar son 2.55 días."
   ]
  },
  {
   "cell_type": "code",
   "execution_count": null,
   "id": "52dc3a56",
   "metadata": {},
   "outputs": [],
   "source": [
    "rmse = np.sqrt(mean_squared_error(y_test, preds1))\n",
    "print(\"RMSE : % f\" %(rmse))\n",
    "\n",
    "plt.figure(figsize=(10,10))\n",
    "j = sns.regplot(x=y_test, y=preds1, fit_reg=True, scatter_kws={\"s\": 100})"
   ]
  },
  {
   "cell_type": "markdown",
   "id": "6ebc58ea",
   "metadata": {},
   "source": [
    "La mayoría dentro de los pocos puntos que se alejan de nuestra recta de regresión se encuentran por debajo, esto significa que si se predijo que se iba a tardar 50 días en pagar la factura, las gran mayoría dentro de los que fallan tardan menos días en pagar por lo que tampoco supone un problema muy grave para Collecta."
   ]
  },
  {
   "cell_type": "code",
   "execution_count": null,
   "id": "534bf0bf",
   "metadata": {},
   "outputs": [],
   "source": [
    "test_params = {\n",
    "    \"max_depth\": [7],\n",
    "    \"learning_rate\": [0.1],\n",
    "    \"gamma\": [0.25],\n",
    "    \"reg_lambda\": [0, 1],\n",
    "    \"scale_pos_weight\": [1],\n",
    "    \"subsample\": [0.8],\n",
    "    \"colsample_bytree\": [0.5]\n",
    "}"
   ]
  },
  {
   "cell_type": "code",
   "execution_count": null,
   "id": "835feda3",
   "metadata": {},
   "outputs": [],
   "source": [
    "model = GridSearchCV(estimator = xgbr, param_grid = test_params)\n",
    "model.fit(X_train, y_train, sample_weight=classes_weights)\n",
    "best_params = model.best_params_\n",
    "print(best_params)\n",
    "model.score(X_train, y_train)"
   ]
  },
  {
   "cell_type": "code",
   "execution_count": null,
   "id": "45d60fc1",
   "metadata": {},
   "outputs": [],
   "source": [
    "print(\"\\n The best accuracy score across ALL searched parameters:\\n\", model.best_score_)"
   ]
  },
  {
   "cell_type": "code",
   "execution_count": null,
   "id": "b5abfd10",
   "metadata": {},
   "outputs": [],
   "source": [
    "xgbr_1 = xgb.XGBRegressor(verbosity=0, seed=123)\n",
    "xgbr_1.set_params(**best_params)"
   ]
  },
  {
   "cell_type": "code",
   "execution_count": null,
   "id": "0cc8eb4b",
   "metadata": {},
   "outputs": [],
   "source": [
    "classes_weights = class_weight.compute_sample_weight(class_weight='balanced', y=y_train)\n",
    "xgbr_1.fit(X_train, y_train, sample_weight=classes_weights)\n",
    "preds2 = xgbr_1.predict(X_test)"
   ]
  },
  {
   "cell_type": "code",
   "execution_count": null,
   "id": "b5aefb57",
   "metadata": {},
   "outputs": [],
   "source": [
    "print(metrics.r2_score(y_test, preds2))"
   ]
  },
  {
   "cell_type": "code",
   "execution_count": null,
   "id": "8b13158a",
   "metadata": {},
   "outputs": [],
   "source": [
    "rmse = np.sqrt(mean_squared_error(y_test, preds2))\n",
    "print(\"RMSE : % f\" %(rmse))\n",
    "\n",
    "plt.figure(figsize=(10,10))\n",
    "j = sns.regplot(x=y_test, y=preds2, fit_reg=True, scatter_kws={\"s\": 100})"
   ]
  },
  {
   "cell_type": "markdown",
   "id": "4c123e32",
   "metadata": {},
   "source": [
    "**A continuación veremos otro modelo que será idéntico al que acabamos de ver salvo que no tendrá en cuenta las fechas ni la variable status.**"
   ]
  },
  {
   "cell_type": "code",
   "execution_count": null,
   "id": "a7f8d8c0",
   "metadata": {},
   "outputs": [],
   "source": [
    "datos_facturas_xgb = datos_facturas_xgb_1\n",
    "datos_facturas_xgb = datos_facturas_xgb.drop(['fecha_recibida_aeesa', 'fecha_pago', 'fecha_reprogramacion',\n",
    "                                             'fecha_revision', 'fecha_inserta'], axis=1)\n",
    "\n",
    "datos_facturas_xgb = datos_facturas_xgb.drop(['status'], axis=1)\n",
    "\n",
    "X_1 = datos_facturas_xgb.loc[:, datos_facturas_xgb.columns!='target']\n",
    "y_1 = datos_facturas_xgb.loc[:, 'target']\n",
    "\n",
    "X_train_1, X_test_1, y_train_1, y_test_1 = train_test_split(X_1, y_1, test_size=.15, random_state=2000)\n",
    "\n",
    "xgbr_2 = xgb.XGBRegressor(verbosity=0, seed=123)\n",
    "classes_weights = class_weight.compute_sample_weight(class_weight='balanced', y=y_train_1)\n",
    "\n",
    "xgbr_2.fit(X_train_1, y_train_1, sample_weight=classes_weights)\n",
    "preds1 = xgbr_2.predict(X_test_1)"
   ]
  },
  {
   "cell_type": "markdown",
   "id": "ca8be5b9",
   "metadata": {},
   "source": [
    "A continuación veremos la importancia que le ha dado nuestro modelo XGBoost a cada variable, esto lo haremos mediante el siguiente proceso:\n",
    "- **Feature Scores & Importance:** mide la ponderación y por lo tanto la importancia que el modelo le da a cada variable."
   ]
  },
  {
   "cell_type": "code",
   "execution_count": null,
   "id": "30077295",
   "metadata": {},
   "outputs": [],
   "source": [
    "feature_scores = pd.Series(xgbr_2.feature_importances_, index=X_train_1.columns).sort_values(ascending=False)\n",
    "feature_scores"
   ]
  },
  {
   "cell_type": "code",
   "execution_count": null,
   "id": "4bb18471",
   "metadata": {},
   "outputs": [],
   "source": [
    "feature_imp = pd.Series(xgbr_2.feature_importances_, index=X_train_1.columns.values).sort_values(ascending=False)\n",
    "sns.barplot(x=feature_imp, y=feature_imp.index)\n",
    "\n",
    "plt.xlabel('Feature Importance Score', fontsize=12)\n",
    "plt.ylabel('Features', fontsize=12)\n",
    "plt.title(\"Visualizing Feature Importances\", fontsize=15)"
   ]
  },
  {
   "cell_type": "code",
   "execution_count": null,
   "id": "0d308166",
   "metadata": {},
   "outputs": [],
   "source": [
    "print(metrics.r2_score(y_test_1, preds1))\n",
    "\n",
    "rmse = np.sqrt(mean_squared_error(y_test_1, preds1))\n",
    "print(\"RMSE : % f\" %(rmse))\n",
    "\n",
    "plt.figure(figsize=(10,10))\n",
    "j = sns.regplot(x=y_test_1, y=preds1, fit_reg=True, scatter_kws={\"s\": 100})"
   ]
  },
  {
   "cell_type": "code",
   "execution_count": null,
   "id": "693a0d91",
   "metadata": {},
   "outputs": [],
   "source": [
    "test_params = {\n",
    "    \"max_depth\": [3, 4, 5, 7],\n",
    "    \"learning_rate\": [0.1, 0.01, 0.05],\n",
    "    \"gamma\": [0, 0.25, 0.75],\n",
    "    \"reg_lambda\": [0, 1],\n",
    "    \"scale_pos_weight\": [1, 3, 5],\n",
    "    \"subsample\": [0.8],\n",
    "    \"colsample_bytree\": [0.5]\n",
    "}\n",
    "\n",
    "model = GridSearchCV(estimator = xgbr_2, param_grid = test_params)\n",
    "model.fit(X_train_1, y_train_1, sample_weight=classes_weights)\n",
    "best_params = model.best_params_\n",
    "print(best_params)\n",
    "model.score(X_train_1, y_train_1)\n",
    "\n",
    "print(\"\\n The best accuracy score across ALL searched parameters:\\n\", model.best_score_)"
   ]
  },
  {
   "cell_type": "code",
   "execution_count": null,
   "id": "7e49c567",
   "metadata": {},
   "outputs": [],
   "source": [
    "xgbr_3 = xgb.XGBRegressor(verbosity=0, seed=123)\n",
    "xgbr_3.set_params(**best_params)\n",
    "\n",
    "classes_weights = class_weight.compute_sample_weight(class_weight='balanced', y=y_train_1)\n",
    "xgbr_3.fit(X_train_1, y_train_1, sample_weight=classes_weights)\n",
    "preds2 = xgbr_3.predict(X_test_1)\n",
    "\n",
    "print(metrics.r2_score(y_test_1, preds2))\n",
    "\n",
    "rmse = np.sqrt(mean_squared_error(y_test_1, preds2))\n",
    "print(\"RMSE : % f\" %(rmse))\n",
    "\n",
    "plt.figure(figsize=(10,10))\n",
    "j = sns.regplot(x=y_test_1, y=preds2, fit_reg=True, scatter_kws={\"s\": 100})"
   ]
  },
  {
   "cell_type": "markdown",
   "id": "8f61168b",
   "metadata": {},
   "source": [
    "[Volver al inicio del sección](#4)"
   ]
  },
  {
   "cell_type": "markdown",
   "id": "c5568842",
   "metadata": {},
   "source": [
    "[Volver al Índice](#contenido)"
   ]
  },
  {
   "cell_type": "markdown",
   "id": "3f526169",
   "metadata": {},
   "source": [
    "<a id=\"6\"></a>\n",
    "## 6. Ejemplo práctico"
   ]
  },
  {
   "cell_type": "markdown",
   "id": "4178cfd4",
   "metadata": {},
   "source": [
    "**Modelo con fechas y status:**"
   ]
  },
  {
   "cell_type": "code",
   "execution_count": null,
   "id": "c9c7e46c",
   "metadata": {},
   "outputs": [],
   "source": [
    "for i in range(10):\n",
    "    ind = y_test.sample(1).index.astype(int)\n",
    "    print(y_test[ind])\n",
    "    print(datos_facturas['fecha_documento'][ind])\n",
    "    x_test = X.loc[ind]\n",
    "    print(xgbr.predict(x_test), '\\n')\n",
    "    i += 1"
   ]
  },
  {
   "cell_type": "markdown",
   "id": "c3fec320",
   "metadata": {},
   "source": [
    "**Modelo sin fechas y status:**"
   ]
  },
  {
   "cell_type": "code",
   "execution_count": null,
   "id": "4d3a8ab5",
   "metadata": {},
   "outputs": [],
   "source": [
    "for i in range(10):\n",
    "    ind = y_test_1.sample(1).index.astype(int)\n",
    "    print(y_test_1[ind])\n",
    "    print(datos_facturas['fecha_documento'][ind])\n",
    "    x_test_1 = X_1.loc[ind]\n",
    "    print(xgbr_3.predict(x_test_1), '\\n')\n",
    "    i += 1"
   ]
  },
  {
   "cell_type": "markdown",
   "id": "8076ff14",
   "metadata": {},
   "source": [
    "[Volver al inicio del sección](#6)"
   ]
  },
  {
   "cell_type": "markdown",
   "id": "f2385646",
   "metadata": {},
   "source": [
    "[Volver al Índice](#contenido)"
   ]
  },
  {
   "cell_type": "markdown",
   "id": "0f7869af",
   "metadata": {},
   "source": [
    "<a id=\"7\"></a>\n",
    "## 7. Persistencia modelo"
   ]
  },
  {
   "cell_type": "code",
   "execution_count": null,
   "id": "cb486964",
   "metadata": {},
   "outputs": [],
   "source": [
    "dataset = pd.concat([X,y],axis=1)\n",
    "dataset.to_csv('datasets/modelo_2.csv',index=False)\n",
    "dataset.shape"
   ]
  },
  {
   "cell_type": "code",
   "execution_count": null,
   "id": "eb284b74",
   "metadata": {},
   "outputs": [],
   "source": [
    "dataset.head()"
   ]
  },
  {
   "cell_type": "code",
   "execution_count": null,
   "id": "1ec3c1e1",
   "metadata": {},
   "outputs": [],
   "source": [
    "xgbr.save_model('models/Modelo_2.bst')"
   ]
  }
 ],
 "metadata": {
  "language_info": {
   "name": "python"
  }
 },
 "nbformat": 4,
 "nbformat_minor": 5
}
